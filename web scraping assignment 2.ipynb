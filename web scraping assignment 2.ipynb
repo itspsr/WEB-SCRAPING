{
 "cells": [
  {
   "cell_type": "code",
   "execution_count": null,
   "id": "2e07068c",
   "metadata": {},
   "outputs": [],
   "source": [
    "!pip install selenium"
   ]
  },
  {
   "cell_type": "code",
   "execution_count": null,
   "id": "583c7973",
   "metadata": {},
   "outputs": [],
   "source": [
    "import pandas as pd \n",
    "import numpy as np\n",
    "from selenium import webdriver\n",
    "import warnings\n",
    "warnings.filterwarnings('ignore')"
   ]
  },
  {
   "cell_type": "markdown",
   "id": "65e47cf9",
   "metadata": {},
   "source": [
    "# Write a python program to scrape data for “Data Analyst” Job position in “Bangalore” location."
   ]
  },
  {
   "cell_type": "code",
   "execution_count": null,
   "id": "c59eabb6",
   "metadata": {},
   "outputs": [],
   "source": [
    "driver = webdriver.Chrome('/users/pratiksingh/Downloads/chromedriver')"
   ]
  },
  {
   "cell_type": "code",
   "execution_count": null,
   "id": "1d6982b1",
   "metadata": {},
   "outputs": [],
   "source": [
    "url='https://www.naukri.com/'\n",
    "driver.get(url)"
   ]
  },
  {
   "cell_type": "code",
   "execution_count": null,
   "id": "df3f07cc",
   "metadata": {},
   "outputs": [],
   "source": [
    "search_job=driver.find_element_by_class_name('suggestor-input ')\n",
    "search_job"
   ]
  },
  {
   "cell_type": "code",
   "execution_count": null,
   "id": "eb2b85ba",
   "metadata": {},
   "outputs": [],
   "source": [
    "search_job.send_keys('Data Analyst')"
   ]
  },
  {
   "cell_type": "code",
   "execution_count": null,
   "id": "3a51e5d8",
   "metadata": {},
   "outputs": [],
   "source": [
    "location_job=driver.find_element_by_xpath('/html/body/div/div[2]/div[3]/div/div/div[3]/div/div/div/input')\n",
    "location_job"
   ]
  },
  {
   "cell_type": "code",
   "execution_count": null,
   "id": "d39ad54c",
   "metadata": {},
   "outputs": [],
   "source": [
    "location_job.send_keys('Bangalore')"
   ]
  },
  {
   "cell_type": "code",
   "execution_count": null,
   "id": "a4917fc0",
   "metadata": {},
   "outputs": [],
   "source": [
    "search_btn=driver.find_element_by_class_name('qsbSubmit')\n",
    "search_btn.click()"
   ]
  },
  {
   "cell_type": "code",
   "execution_count": null,
   "id": "cbfa9397",
   "metadata": {},
   "outputs": [],
   "source": [
    "job_tags=driver.find_elements_by_xpath('//a[@class=\"title fw500 ellipsis\"]')"
   ]
  },
  {
   "cell_type": "code",
   "execution_count": null,
   "id": "2efedff0",
   "metadata": {},
   "outputs": [],
   "source": [
    "job_tags"
   ]
  },
  {
   "cell_type": "code",
   "execution_count": null,
   "id": "e85e7c17",
   "metadata": {},
   "outputs": [],
   "source": [
    "len(job_tags)"
   ]
  },
  {
   "cell_type": "code",
   "execution_count": null,
   "id": "4fbc8f3f",
   "metadata": {},
   "outputs": [],
   "source": [
    "titles=[]\n",
    "for i in job_tags:\n",
    "     titles.append(i.text)\n",
    "    \n",
    "titles\n"
   ]
  },
  {
   "cell_type": "code",
   "execution_count": null,
   "id": "18f587eb",
   "metadata": {},
   "outputs": [],
   "source": [
    "location=driver.find_elements_by_xpath('//li[@class=\"fleft grey-text br2 placeHolderLi location\"]')\n"
   ]
  },
  {
   "cell_type": "code",
   "execution_count": null,
   "id": "740d2a49",
   "metadata": {},
   "outputs": [],
   "source": [
    "location"
   ]
  },
  {
   "cell_type": "code",
   "execution_count": null,
   "id": "55778fce",
   "metadata": {},
   "outputs": [],
   "source": [
    "Loc=[]\n",
    "for i in location:\n",
    "    Loc.append(i.text)\n",
    "    \n",
    "Loc    "
   ]
  },
  {
   "cell_type": "code",
   "execution_count": null,
   "id": "38d563c6",
   "metadata": {},
   "outputs": [],
   "source": [
    "company=driver.find_elements_by_xpath('//a[@class=\"subTitle ellipsis fleft\"]')"
   ]
  },
  {
   "cell_type": "code",
   "execution_count": null,
   "id": "19fd4bc5",
   "metadata": {},
   "outputs": [],
   "source": [
    "company"
   ]
  },
  {
   "cell_type": "code",
   "execution_count": null,
   "id": "916f2e8a",
   "metadata": {},
   "outputs": [],
   "source": [
    "compny=[]\n",
    "for i in company:\n",
    "    compny.append(i.text)\n",
    "    \n",
    "compny "
   ]
  },
  {
   "cell_type": "code",
   "execution_count": null,
   "id": "70f443aa",
   "metadata": {},
   "outputs": [],
   "source": [
    "exp=driver.find_elements_by_xpath('//span[contains(@title,\"Yrs\")]')"
   ]
  },
  {
   "cell_type": "code",
   "execution_count": null,
   "id": "c5e3cbe7",
   "metadata": {},
   "outputs": [],
   "source": [
    "exp"
   ]
  },
  {
   "cell_type": "code",
   "execution_count": null,
   "id": "afe4efc5",
   "metadata": {},
   "outputs": [],
   "source": [
    "expc=[]\n",
    "for i in exp:\n",
    "    expc.append(i.text)\n",
    "    \n",
    "expc "
   ]
  },
  {
   "cell_type": "code",
   "execution_count": null,
   "id": "0451cdd2",
   "metadata": {},
   "outputs": [],
   "source": [
    "df=pd.DataFrame({'Job-Title':titles,'Job-Location':Loc,'Company-Name':compny,'Experience-required':expc})"
   ]
  },
  {
   "cell_type": "code",
   "execution_count": null,
   "id": "10611615",
   "metadata": {},
   "outputs": [],
   "source": [
    "df"
   ]
  },
  {
   "cell_type": "markdown",
   "id": "fc673c59",
   "metadata": {},
   "source": [
    " # 2.Write a python program to scrape data for “Data Scientist” Job position in “Bangalore” location"
   ]
  },
  {
   "cell_type": "code",
   "execution_count": null,
   "id": "7a722a6c",
   "metadata": {},
   "outputs": [],
   "source": [
    "driver = webdriver.Chrome('/users/pratiksingh/Downloads/chromedriver')"
   ]
  },
  {
   "cell_type": "code",
   "execution_count": null,
   "id": "fd2436a9",
   "metadata": {},
   "outputs": [],
   "source": [
    "url='https://www.naukri.com/'\n",
    "driver.get(url)"
   ]
  },
  {
   "cell_type": "code",
   "execution_count": null,
   "id": "b62f288a",
   "metadata": {},
   "outputs": [],
   "source": [
    "search_job=driver.find_element_by_class_name('suggestor-input ')\n",
    "search_job"
   ]
  },
  {
   "cell_type": "code",
   "execution_count": null,
   "id": "fedda767",
   "metadata": {},
   "outputs": [],
   "source": [
    "search_job.send_keys('Data Scientist')"
   ]
  },
  {
   "cell_type": "code",
   "execution_count": null,
   "id": "fcc82736",
   "metadata": {},
   "outputs": [],
   "source": [
    "loc_job=driver.find_element_by_xpath('/html/body/div/div[2]/div[3]/div/div/div[3]/div/div/div/input')\n"
   ]
  },
  {
   "cell_type": "code",
   "execution_count": null,
   "id": "71803014",
   "metadata": {},
   "outputs": [],
   "source": [
    "loc_job.send_keys('Bangalore')"
   ]
  },
  {
   "cell_type": "code",
   "execution_count": null,
   "id": "8f76942c",
   "metadata": {},
   "outputs": [],
   "source": [
    "search_btn=driver.find_element_by_class_name('qsbSubmit')\n",
    "search_btn.click()"
   ]
  },
  {
   "cell_type": "code",
   "execution_count": null,
   "id": "df54ba0f",
   "metadata": {},
   "outputs": [],
   "source": [
    "job=driver.find_elements_by_xpath('//a[@class=\"title fw500 ellipsis\"]')\n",
    "job"
   ]
  },
  {
   "cell_type": "code",
   "execution_count": null,
   "id": "780196e9",
   "metadata": {},
   "outputs": [],
   "source": [
    "len(job)"
   ]
  },
  {
   "cell_type": "code",
   "execution_count": null,
   "id": "191bfb62",
   "metadata": {},
   "outputs": [],
   "source": [
    "titles=[]\n",
    "for i in job:\n",
    "    titles.append(i.text)\n",
    "    \n",
    "titles    "
   ]
  },
  {
   "cell_type": "code",
   "execution_count": null,
   "id": "966f0c21",
   "metadata": {},
   "outputs": [],
   "source": [
    "location=driver.find_elements_by_xpath('//li[@class=\"fleft grey-text br2 placeHolderLi location\"]')\n",
    "location"
   ]
  },
  {
   "cell_type": "code",
   "execution_count": null,
   "id": "80cb047d",
   "metadata": {},
   "outputs": [],
   "source": [
    "loc=[]\n",
    "for i in location:\n",
    "    loc.append(i.text)\n",
    "    \n",
    "loc "
   ]
  },
  {
   "cell_type": "code",
   "execution_count": null,
   "id": "f5e121a0",
   "metadata": {},
   "outputs": [],
   "source": [
    "company=driver.find_elements_by_xpath('//a[@class=\"subTitle ellipsis fleft\"]')\n",
    "company"
   ]
  },
  {
   "cell_type": "code",
   "execution_count": null,
   "id": "23ed59da",
   "metadata": {},
   "outputs": [],
   "source": [
    "comp=[]\n",
    "for i in company:\n",
    "    comp.append(i.text)\n",
    "    \n",
    "comp "
   ]
  },
  {
   "cell_type": "code",
   "execution_count": null,
   "id": "6da3d9a9",
   "metadata": {},
   "outputs": [],
   "source": [
    "df=pd.DataFrame({'Job-Title':titles,'Location':loc,'Company-Name':comp})\n",
    "df"
   ]
  },
  {
   "cell_type": "markdown",
   "id": "771a25c6",
   "metadata": {},
   "source": [
    "# 3. In this question you have to scrape data using the filters available on the webpage as shown below"
   ]
  },
  {
   "cell_type": "code",
   "execution_count": null,
   "id": "2eb241d5",
   "metadata": {},
   "outputs": [],
   "source": [
    "import pandas as pd \n",
    "import numpy as np\n",
    "from selenium import webdriver\n",
    "import warnings\n",
    "warnings.filterwarnings('ignore')"
   ]
  },
  {
   "cell_type": "code",
   "execution_count": null,
   "id": "5ad51481",
   "metadata": {},
   "outputs": [],
   "source": [
    "driver = webdriver.Chrome('/users/pratiksingh/Downloads/chromedriver')"
   ]
  },
  {
   "cell_type": "code",
   "execution_count": null,
   "id": "021a37fd",
   "metadata": {},
   "outputs": [],
   "source": [
    "url3='https://www.naukri.com/'\n",
    "driver.get(url)"
   ]
  },
  {
   "cell_type": "code",
   "execution_count": null,
   "id": "7c9b1f99",
   "metadata": {},
   "outputs": [],
   "source": [
    "search_job=driver.find_element_by_class_name('suggestor-input')\n",
    "search_job"
   ]
  },
  {
   "cell_type": "code",
   "execution_count": null,
   "id": "fd14206b",
   "metadata": {},
   "outputs": [],
   "source": [
    "search_job.send_keys('Data Scientist')"
   ]
  },
  {
   "cell_type": "code",
   "execution_count": null,
   "id": "892033b4",
   "metadata": {},
   "outputs": [],
   "source": [
    "search_btn=driver.find_element_by_class_name('qsbSubmit')\n",
    "search_btn.click()"
   ]
  },
  {
   "cell_type": "code",
   "execution_count": null,
   "id": "d58374d3",
   "metadata": {},
   "outputs": [],
   "source": [
    "location_filter=driver.find_element_by_xpath('/html/body/div[1]/div[3]/div[2]/section[1]/div[2]/div[3]/div[2]/div[3]/label/p/span[2]')\n",
    "location_filter.click()"
   ]
  },
  {
   "cell_type": "code",
   "execution_count": null,
   "id": "0e213899",
   "metadata": {},
   "outputs": [],
   "source": [
    "salary_filter=driver.find_element_by_xpath('/html/body/div[1]/div[3]/div[2]/section[1]/div[2]/div[4]/div[2]/div[2]/label/p/span[1]')\n",
    "salary_filter.click()"
   ]
  },
  {
   "cell_type": "code",
   "execution_count": null,
   "id": "92e3d5ea",
   "metadata": {},
   "outputs": [],
   "source": [
    "jobs=driver.find_elements_by_xpath('//a[@class=\"title fw500 ellipsis\"]')\n",
    "jobs"
   ]
  },
  {
   "cell_type": "code",
   "execution_count": null,
   "id": "8eb04943",
   "metadata": {},
   "outputs": [],
   "source": [
    "len(jobs)"
   ]
  },
  {
   "cell_type": "code",
   "execution_count": null,
   "id": "3b03addf",
   "metadata": {},
   "outputs": [],
   "source": [
    "job=[]\n",
    "for i in jobs:\n",
    "    job.append(i.text)\n",
    "    job=job[0:10]\n",
    "    \n",
    "job"
   ]
  },
  {
   "cell_type": "code",
   "execution_count": null,
   "id": "9986f996",
   "metadata": {},
   "outputs": [],
   "source": [
    "job_location=driver.find_elements_by_xpath('//li[@class=\"fleft grey-text br2 placeHolderLi location\"]')\n",
    "job_location"
   ]
  },
  {
   "cell_type": "code",
   "execution_count": null,
   "id": "f5282395",
   "metadata": {},
   "outputs": [],
   "source": [
    "location=[]\n",
    "for i in job_location:\n",
    "    location.append(i.text)\n",
    "    location=location[0:10]\n",
    "    \n",
    "location"
   ]
  },
  {
   "cell_type": "code",
   "execution_count": null,
   "id": "5e4cd2ae",
   "metadata": {},
   "outputs": [],
   "source": [
    "company_name=driver.find_elements_by_xpath('//a[@class=\"subTitle ellipsis fleft\"]')\n",
    "company_name"
   ]
  },
  {
   "cell_type": "code",
   "execution_count": null,
   "id": "1e02b80b",
   "metadata": {},
   "outputs": [],
   "source": [
    "compny=[]\n",
    "for i in company_name:\n",
    "    compny.append(i.text)\n",
    "    compny=compny[0:10]\n",
    "    \n",
    "compny"
   ]
  },
  {
   "cell_type": "code",
   "execution_count": null,
   "id": "62c7d1ce",
   "metadata": {},
   "outputs": [],
   "source": [
    "experience=driver.find_elements_by_xpath('//span[contains(@title,\"Yrs\")]')\n",
    "experience"
   ]
  },
  {
   "cell_type": "code",
   "execution_count": null,
   "id": "371ca59a",
   "metadata": {},
   "outputs": [],
   "source": [
    "exp=[]\n",
    "for i in experience:\n",
    "    exp.append(i.text)\n",
    "    exp=exp[0:10]\n",
    "    \n",
    "exp"
   ]
  },
  {
   "cell_type": "code",
   "execution_count": null,
   "id": "fb180e68",
   "metadata": {},
   "outputs": [],
   "source": [
    "df=pd.DataFrame({'Job-Title':job,'Location':location,'Company-Name':compny,'Experience-Required':exp})\n",
    "df"
   ]
  },
  {
   "cell_type": "markdown",
   "id": "e6289253",
   "metadata": {},
   "source": [
    " # 4.Scrape data of first 100 sunglasses listings on flipkart.com. You have to scrape four attributes"
   ]
  },
  {
   "cell_type": "code",
   "execution_count": null,
   "id": "ee1ab583",
   "metadata": {},
   "outputs": [],
   "source": [
    "driver = webdriver.Chrome('/users/pratiksingh/Downloads/chromedriver')"
   ]
  },
  {
   "cell_type": "code",
   "execution_count": null,
   "id": "cbadbd89",
   "metadata": {},
   "outputs": [],
   "source": [
    "url='https://www.flipkart.com/'\n",
    "driver.get(url)"
   ]
  },
  {
   "cell_type": "code",
   "execution_count": null,
   "id": "253dbed7",
   "metadata": {},
   "outputs": [],
   "source": [
    "search_glass=driver.find_element_by_class_name('_3704LK')\n",
    "search_glass"
   ]
  },
  {
   "cell_type": "code",
   "execution_count": null,
   "id": "b57c9f42",
   "metadata": {},
   "outputs": [],
   "source": [
    "search_glass.send_keys('sunglasses')"
   ]
  },
  {
   "cell_type": "code",
   "execution_count": null,
   "id": "6cc56131",
   "metadata": {},
   "outputs": [],
   "source": [
    "search_btn=driver.find_element_by_class_name('L0Z3Pu')"
   ]
  },
  {
   "cell_type": "code",
   "execution_count": null,
   "id": "b40356ab",
   "metadata": {},
   "outputs": [],
   "source": [
    "search_btn.click()"
   ]
  },
  {
   "cell_type": "code",
   "execution_count": null,
   "id": "b402c4dd",
   "metadata": {},
   "outputs": [],
   "source": [
    "brands=driver.find_element_by_class_name('_2WkVRV')"
   ]
  },
  {
   "cell_type": "code",
   "execution_count": null,
   "id": "3bf5ffc7",
   "metadata": {},
   "outputs": [],
   "source": [
    "brands"
   ]
  },
  {
   "cell_type": "code",
   "execution_count": null,
   "id": "f1d0c3ca",
   "metadata": {},
   "outputs": [],
   "source": [
    "brands=driver.find_elements_by_xpath('//div[@class=\"_2WkVRV\"]')\n",
    "brands"
   ]
  },
  {
   "cell_type": "code",
   "execution_count": null,
   "id": "c9d82ebe",
   "metadata": {},
   "outputs": [],
   "source": [
    "name=[]\n",
    "for i in brands:\n",
    "    name.append(i.text)\n",
    "    \n",
    "name    "
   ]
  },
  {
   "cell_type": "code",
   "execution_count": null,
   "id": "50b0c166",
   "metadata": {},
   "outputs": [],
   "source": [
    "features=driver.find_elements_by_xpath('//a[@class=\"IRpwTa\"]')\n",
    "features"
   ]
  },
  {
   "cell_type": "code",
   "execution_count": null,
   "id": "a229f56a",
   "metadata": {},
   "outputs": [],
   "source": [
    "feature_name=[]\n",
    "for i in features:\n",
    "    feature_name.append(i.text)\n",
    "    \n",
    "feature_name"
   ]
  },
  {
   "cell_type": "code",
   "execution_count": null,
   "id": "72a4807e",
   "metadata": {},
   "outputs": [],
   "source": [
    "price=driver.find_elements_by_xpath('//div[@class=\"_30jeq3\"]')\n",
    "price"
   ]
  },
  {
   "cell_type": "code",
   "execution_count": null,
   "id": "121ccc71",
   "metadata": {},
   "outputs": [],
   "source": [
    "price_tag=[]\n",
    "for i in price:\n",
    "    price_tag.append(i.text)\n",
    "    \n",
    "price_tag"
   ]
  },
  {
   "cell_type": "code",
   "execution_count": null,
   "id": "44e302b7",
   "metadata": {},
   "outputs": [],
   "source": [
    "next_page=driver.find_element_by_class_name('_1LKTO3')\n",
    "next_page.click()"
   ]
  },
  {
   "cell_type": "code",
   "execution_count": null,
   "id": "e072c353",
   "metadata": {},
   "outputs": [],
   "source": [
    "page2=driver.find_elements_by_xpath('//div[@class=\"_2WkVRV\"]')"
   ]
  },
  {
   "cell_type": "code",
   "execution_count": null,
   "id": "15876218",
   "metadata": {},
   "outputs": [],
   "source": [
    "page2"
   ]
  },
  {
   "cell_type": "code",
   "execution_count": null,
   "id": "a98fc527",
   "metadata": {},
   "outputs": [],
   "source": [
    "brand2=[]\n",
    "for i in page2:\n",
    "     brand2.append(i.text)\n",
    "    \n",
    "brand2"
   ]
  },
  {
   "cell_type": "code",
   "execution_count": null,
   "id": "4995d401",
   "metadata": {},
   "outputs": [],
   "source": [
    "features2=driver.find_elements_by_xpath('//a[@class=\"IRpwTa\"]')\n",
    "features2"
   ]
  },
  {
   "cell_type": "code",
   "execution_count": null,
   "id": "fd7306ff",
   "metadata": {},
   "outputs": [],
   "source": [
    "features=[]\n",
    "for i in features2:\n",
    "    features.append(i.text)\n",
    "    \n",
    "features"
   ]
  },
  {
   "cell_type": "code",
   "execution_count": null,
   "id": "5eb46496",
   "metadata": {},
   "outputs": [],
   "source": [
    "price2=driver.find_elements_by_xpath('//div[@class=\"_30jeq3\"]')\n",
    "price2"
   ]
  },
  {
   "cell_type": "code",
   "execution_count": null,
   "id": "d48835f8",
   "metadata": {},
   "outputs": [],
   "source": [
    "price_page2=[]\n",
    "for i in price2:\n",
    "    price_page2.append(i.text)\n",
    "    \n",
    "price_page2"
   ]
  },
  {
   "cell_type": "code",
   "execution_count": null,
   "id": "b6d39535",
   "metadata": {},
   "outputs": [],
   "source": [
    "next_page=driver.find_element_by_class_name('_1LKTO3')"
   ]
  },
  {
   "cell_type": "code",
   "execution_count": null,
   "id": "7da41f9b",
   "metadata": {},
   "outputs": [],
   "source": [
    "next_page"
   ]
  },
  {
   "cell_type": "code",
   "execution_count": null,
   "id": "2af53a15",
   "metadata": {},
   "outputs": [],
   "source": [
    "next_page.click()"
   ]
  },
  {
   "cell_type": "code",
   "execution_count": null,
   "id": "bc4facc5",
   "metadata": {},
   "outputs": [],
   "source": [
    "page3=driver.find_elements_by_xpath('//div[@class=\"_2WkVRV\"]')\n",
    "page3"
   ]
  },
  {
   "cell_type": "code",
   "execution_count": null,
   "id": "a02ec438",
   "metadata": {},
   "outputs": [],
   "source": [
    "brand3=[]\n",
    "for i in page3:\n",
    "    brand3.append(i.text)\n",
    "    brand3.append:brand3[0:20]\n",
    "brand3"
   ]
  },
  {
   "cell_type": "code",
   "execution_count": null,
   "id": "f61e8ac6",
   "metadata": {},
   "outputs": [],
   "source": [
    "features3=driver.find_elements_by_xpath('//a[@class=\"IRpwTa\"]')\n",
    "features3"
   ]
  },
  {
   "cell_type": "code",
   "execution_count": null,
   "id": "4a2a7336",
   "metadata": {},
   "outputs": [],
   "source": [
    "features=[]\n",
    "for i in features3:\n",
    "    features.append(i.text)\n",
    "    \n",
    "features"
   ]
  },
  {
   "cell_type": "code",
   "execution_count": null,
   "id": "72d25dd9",
   "metadata": {},
   "outputs": [],
   "source": [
    "price3=driver.find_elements_by_xpath('//div[@class=\"_30jeq3\"]')\n",
    "price3"
   ]
  },
  {
   "cell_type": "code",
   "execution_count": null,
   "id": "7395fe5f",
   "metadata": {},
   "outputs": [],
   "source": [
    "price_page3=[]\n",
    "for i in price3:\n",
    "    price_page3.append(i.text)\n",
    "    \n",
    "price_page3"
   ]
  },
  {
   "cell_type": "code",
   "execution_count": null,
   "id": "d82f6bbe",
   "metadata": {},
   "outputs": [],
   "source": [
    "df = pd.DataFrame({})\n",
    "df['brand_name'] = name\n",
    "df['features'] = feature_name\n",
    "df['price'] = price_page3\n"
   ]
  },
  {
   "cell_type": "code",
   "execution_count": null,
   "id": "ed02a9af",
   "metadata": {},
   "outputs": [],
   "source": [
    "df"
   ]
  },
  {
   "cell_type": "markdown",
   "id": "0df42e4f",
   "metadata": {},
   "source": [
    "# Scrape 100 reviews data from flipkart.com for iphone11 phone. You have to go the link"
   ]
  },
  {
   "cell_type": "code",
   "execution_count": null,
   "id": "853357f8",
   "metadata": {},
   "outputs": [],
   "source": [
    "driver = webdriver.Chrome('/users/pratiksingh/Downloads/chromedriver')"
   ]
  },
  {
   "cell_type": "code",
   "execution_count": null,
   "id": "a1357bc1",
   "metadata": {},
   "outputs": [],
   "source": [
    "url5=\"s://www.flipkart.com/apple-iphone-11-black-64-gb-includes- earpods-power-adapter/p/itm0f37c2240b217?pid=MOBFKCTSVZAXUHGR&lid=LSTMOBFKCTSVZAXUHGREPBFGI&marketplace\"\n",
    "driver.get(url5)"
   ]
  },
  {
   "cell_type": "code",
   "execution_count": null,
   "id": "b6f9bf00",
   "metadata": {},
   "outputs": [],
   "source": [
    "#Link provided above is not opening in chrome. it may be removed by flipkart Cant scrape the data."
   ]
  },
  {
   "cell_type": "markdown",
   "id": "1dba462b",
   "metadata": {},
   "source": [
    "# 6.Scrape data for first 100 sneakers you find when you visit flipkart.com andsearch for “sneakers"
   ]
  },
  {
   "cell_type": "code",
   "execution_count": null,
   "id": "2d6f41d9",
   "metadata": {},
   "outputs": [],
   "source": [
    "driver = webdriver.Chrome('/users/pratiksingh/Downloads/chromedriver')"
   ]
  },
  {
   "cell_type": "code",
   "execution_count": null,
   "id": "6df1f1b1",
   "metadata": {},
   "outputs": [],
   "source": [
    "url=\"https://www.flipkart.com/\"\n",
    "driver.get(url)"
   ]
  },
  {
   "cell_type": "code",
   "execution_count": null,
   "id": "9d034d33",
   "metadata": {},
   "outputs": [],
   "source": [
    "search_sneaker=driver.find_element_by_class_name('_3704LK')\n",
    "search_sneaker"
   ]
  },
  {
   "cell_type": "code",
   "execution_count": null,
   "id": "8dbdff87",
   "metadata": {},
   "outputs": [],
   "source": [
    "search_sneaker.send_keys('sneakers')"
   ]
  },
  {
   "cell_type": "code",
   "execution_count": null,
   "id": "d5a71d69",
   "metadata": {},
   "outputs": [],
   "source": [
    "search_btn=driver.find_element_by_class_name(\"_34RNph\")\n",
    "search_btn.click()"
   ]
  },
  {
   "cell_type": "code",
   "execution_count": null,
   "id": "67f36c40",
   "metadata": {},
   "outputs": [],
   "source": [
    "brands = []\n",
    "prdcts = []\n",
    "price = []\n",
    "discount = []\n",
    "\n",
    "for k in range(1,4):\n",
    "\n",
    "    \n",
    "    brand = driver.find_elements_by_class_name('_2WkVRV')\n",
    "    \n",
    "\n",
    "    for i in brand:\n",
    "        brands.append(i.text)\n",
    "\n",
    "    desc = driver.find_elements_by_class_name('IRpwTa')\n",
    "    \n",
    "\n",
    "    for i in desc:\n",
    "        prdcts.append(i.text)\n",
    "\n",
    "    cost = driver.find_elements_by_class_name(\"_30jeq3\")\n",
    "    \n",
    "\n",
    "    for i in cost:\n",
    "        price.append(i.text)\n",
    "\n",
    "\n",
    "    dis = driver.find_elements_by_class_name(\"_3Ay6Sb\")\n",
    "    \n",
    "\n",
    "    for i in dis:\n",
    "        discount.append(i.text)\n",
    "    \n",
    "    \n",
    "        nxt_button=driver.find_elements_by_xpath(\"//a[@class='_1LKTO3']\")              \n",
    "    try:\n",
    "\n",
    "        driver.get(nxt_button[1].get_attribute('href'))\n",
    "        \n",
    "\n",
    "    except:\n",
    "\n",
    "        driver.get(nxt_button[0].get_attribute('href'))"
   ]
  },
  {
   "cell_type": "code",
   "execution_count": null,
   "id": "ae3cce3b",
   "metadata": {},
   "outputs": [],
   "source": [
    "brands = brands[0:100]\n",
    "prdcts = prdcts[0:100]\n",
    "price = price[0:100]\n",
    "discount = discount[0:100]"
   ]
  },
  {
   "cell_type": "code",
   "execution_count": null,
   "id": "5946c71d",
   "metadata": {},
   "outputs": [],
   "source": [
    "df = pd.DataFrame({})\n",
    "df['Brand name'] = brands\n",
    "df['Product descriptions'] = prdcts\n",
    "df['Price'] = price\n",
    "df['Discount'] = discount"
   ]
  },
  {
   "cell_type": "code",
   "execution_count": null,
   "id": "ee019b53",
   "metadata": {},
   "outputs": [],
   "source": [
    "df"
   ]
  },
  {
   "cell_type": "markdown",
   "id": "a82dbcb2",
   "metadata": {},
   "source": [
    "# 7:Go to the link - https://www.myntra.com/shoes Set Price filter to “Rs. 7149 to Rs. 14099 ” , Color filter to “Black”, as shown inthe below image."
   ]
  },
  {
   "cell_type": "code",
   "execution_count": null,
   "id": "16f89d2b",
   "metadata": {},
   "outputs": [],
   "source": [
    "driver = webdriver.Chrome('/users/pratiksingh/Downloads/chromedriver')"
   ]
  },
  {
   "cell_type": "code",
   "execution_count": null,
   "id": "dbb17d28",
   "metadata": {},
   "outputs": [],
   "source": [
    "url = \"https://www.myntra.com/shoes\"\n",
    "\n",
    "driver.get(url)"
   ]
  },
  {
   "cell_type": "code",
   "execution_count": null,
   "id": "c43f1797",
   "metadata": {},
   "outputs": [],
   "source": [
    "driver.find_element_by_xpath(\"/html/body/div[2]/div/div[1]/main/div[3]/div[1]/section/div/div[5]/ul/li[2]/label/div\").click()"
   ]
  },
  {
   "cell_type": "code",
   "execution_count": null,
   "id": "617d520f",
   "metadata": {},
   "outputs": [],
   "source": [
    "driver.find_element_by_xpath(\"/html/body/div[2]/div/div[1]/main/div[3]/div[1]/section/div/div[6]/ul/li[1]/label/div\").click()"
   ]
  },
  {
   "cell_type": "code",
   "execution_count": null,
   "id": "db30bf54",
   "metadata": {},
   "outputs": [],
   "source": [
    "brands = []\n",
    "prdcts = []\n",
    "price = []\n",
    "\n",
    "\n",
    "\n",
    "brand = driver.find_elements_by_class_name('product-brand')\n",
    "    \n",
    "\n",
    "for i in brand:\n",
    "    brands.append(i.text)\n",
    "\n",
    "desc = driver.find_elements_by_class_name('product-product')\n",
    "    \n",
    "for i in desc:\n",
    "    prdcts.append(i.text)\n",
    "\n",
    "cost = driver.find_elements_by_class_name(\"product-price\")\n",
    "    \n",
    "\n",
    "for i in cost:\n",
    "    price.append(i.text)"
   ]
  },
  {
   "cell_type": "code",
   "execution_count": null,
   "id": "7872c4aa",
   "metadata": {},
   "outputs": [],
   "source": [
    "url = \"https://www.myntra.com/shoes?f=Color%3ABlack_36454f&p=2&plaEnabled=false&rf=Price%3A6657.0_13105.0_6657.0%20TO%2013105.0\"\n",
    "\n",
    "driver.get(url)"
   ]
  },
  {
   "cell_type": "code",
   "execution_count": null,
   "id": "34db8e0d",
   "metadata": {},
   "outputs": [],
   "source": [
    "brands1 = []\n",
    "prdcts1 = []\n",
    "price1 = []\n",
    "\n",
    "\n",
    "\n",
    "brand = driver.find_elements_by_class_name('product-brand')\n",
    "    \n",
    "\n",
    "for i in brand:\n",
    "    brands1.append(i.text)\n",
    "\n",
    "desc = driver.find_elements_by_class_name('product-product')\n",
    "    \n",
    "for i in desc:\n",
    "    prdcts1.append(i.text)\n",
    "\n",
    "cost = driver.find_elements_by_class_name(\"product-price\")\n",
    "    \n",
    "\n",
    "for i in cost:\n",
    "    price1.append(i.text)\n",
    "\n"
   ]
  },
  {
   "cell_type": "code",
   "execution_count": null,
   "id": "7e8dc75f",
   "metadata": {},
   "outputs": [],
   "source": [
    "df = pd.DataFrame({})\n",
    "df['Brands'] = brands+brands1\n",
    "df['Products'] = prdcts+prdcts1\n",
    "df['[Price]'] = price+price1"
   ]
  },
  {
   "cell_type": "code",
   "execution_count": null,
   "id": "724d7802",
   "metadata": {},
   "outputs": [],
   "source": [
    "df"
   ]
  },
  {
   "cell_type": "markdown",
   "id": "f25bafcf",
   "metadata": {},
   "source": [
    "# 8.Enter “Laptop” in the search field and then click the search icon. Then set CPU Type filter to “Intel Core i7” and “Intel Core i9” as shown in the below image:"
   ]
  },
  {
   "cell_type": "code",
   "execution_count": null,
   "id": "b97759f2",
   "metadata": {},
   "outputs": [],
   "source": [
    "driver = webdriver.Chrome('/users/pratiksingh/Downloads/chromedriver')"
   ]
  },
  {
   "cell_type": "code",
   "execution_count": null,
   "id": "97a5540a",
   "metadata": {},
   "outputs": [],
   "source": [
    "url='https://www.amazon.in/'\n",
    "driver.get(url)"
   ]
  },
  {
   "cell_type": "code",
   "execution_count": null,
   "id": "e83226f5",
   "metadata": {},
   "outputs": [],
   "source": [
    "search=driver.find_element_by_id('twotabsearchtextbox')\n",
    "search"
   ]
  },
  {
   "cell_type": "code",
   "execution_count": null,
   "id": "0aef7e7e",
   "metadata": {},
   "outputs": [],
   "source": [
    "search.send_keys(\"Laptop\")"
   ]
  },
  {
   "cell_type": "code",
   "execution_count": null,
   "id": "c557b76a",
   "metadata": {},
   "outputs": [],
   "source": [
    "button_search=driver.find_element_by_id(\"nav-search-submit-button\")\n",
    "button_search.click()"
   ]
  },
  {
   "cell_type": "code",
   "execution_count": null,
   "id": "6205fe46",
   "metadata": {},
   "outputs": [],
   "source": [
    "core_i7=driver.find_element_by_xpath(\"/html/body/div[1]/div[2]/div[1]/div[2]/div/div[3]/span/div[1]/div/div/div[6]/ul[3]/li[11]/span/a/div/label\")"
   ]
  },
  {
   "cell_type": "code",
   "execution_count": null,
   "id": "01bbec98",
   "metadata": {},
   "outputs": [],
   "source": [
    "core_i7.click()"
   ]
  },
  {
   "cell_type": "code",
   "execution_count": null,
   "id": "1f179f9a",
   "metadata": {},
   "outputs": [],
   "source": [
    "#core_i9=driver.find_element_by_xpath()\n",
    "#not found"
   ]
  },
  {
   "cell_type": "code",
   "execution_count": null,
   "id": "acbc85f2",
   "metadata": {},
   "outputs": [],
   "source": [
    "lap_title=driver.find_elements_by_xpath('//a[@class=\"a-link-normal s-underline-text s-underline-link-text s-link-style a-text-normal\"]')"
   ]
  },
  {
   "cell_type": "code",
   "execution_count": null,
   "id": "98abbc7a",
   "metadata": {},
   "outputs": [],
   "source": [
    "lap_title"
   ]
  },
  {
   "cell_type": "code",
   "execution_count": null,
   "id": "79a97f08",
   "metadata": {},
   "outputs": [],
   "source": [
    "lap_price=driver.find_elements_by_xpath('//span[@class=\"a-price-whole\"]')\n",
    "\n",
    "lap_price"
   ]
  },
  {
   "cell_type": "code",
   "execution_count": null,
   "id": "c3d611d1",
   "metadata": {},
   "outputs": [],
   "source": [
    "Ratings=driver.find_elements_by_xpath('//span[@class=\"a-icon-alt\"]')\n",
    "Ratings"
   ]
  },
  {
   "cell_type": "code",
   "execution_count": null,
   "id": "c1261375",
   "metadata": {},
   "outputs": [],
   "source": [
    "lapy=[]\n",
    "for i in lap_title:\n",
    "    lapy.append(i.text)\n",
    "    lapy=lapy[0:10]    \n",
    "lapy"
   ]
  },
  {
   "cell_type": "code",
   "execution_count": null,
   "id": "d95b0c53",
   "metadata": {},
   "outputs": [],
   "source": [
    "price=[]\n",
    "for i in lap_price:\n",
    "    price.append(i.text)\n",
    "    price=price[0:10]    \n",
    "price"
   ]
  },
  {
   "cell_type": "code",
   "execution_count": null,
   "id": "038ee67d",
   "metadata": {},
   "outputs": [],
   "source": [
    "rat=[]\n",
    "for i in Ratings:\n",
    "    rat.append(i.text)\n",
    "    rat = rat[0:10]    \n",
    "rat"
   ]
  },
  {
   "cell_type": "code",
   "execution_count": null,
   "id": "6ca73e27",
   "metadata": {},
   "outputs": [],
   "source": [
    "df = pd.DataFrame({})\n",
    "df['Title'] = lapy \n",
    "df['Price'] = price\n",
    "df['Ratings'] = rat"
   ]
  },
  {
   "cell_type": "code",
   "execution_count": null,
   "id": "9a91b256",
   "metadata": {},
   "outputs": [],
   "source": [
    "df"
   ]
  },
  {
   "cell_type": "markdown",
   "id": "6cb2d37a",
   "metadata": {},
   "source": [
    "# Write a python program to scrape data for first 10 job results for Data Scientist Designation in Noida"
   ]
  },
  {
   "cell_type": "code",
   "execution_count": null,
   "id": "6700f163",
   "metadata": {},
   "outputs": [],
   "source": [
    "driver = webdriver.Chrome('/users/pratiksingh/Downloads/chromedriver')"
   ]
  },
  {
   "cell_type": "code",
   "execution_count": null,
   "id": "cc394820",
   "metadata": {},
   "outputs": [],
   "source": [
    "url='https://www.ambitionbox.com/'\n",
    "driver.get(url)"
   ]
  },
  {
   "cell_type": "code",
   "execution_count": null,
   "id": "c8b28fa6",
   "metadata": {},
   "outputs": [],
   "source": [
    "icon=driver.find_element_by_xpath(\"/html/body/div[1]/nav/nav/a[6]\")"
   ]
  },
  {
   "cell_type": "code",
   "execution_count": null,
   "id": "5d367398",
   "metadata": {},
   "outputs": [],
   "source": [
    "icon.click()"
   ]
  },
  {
   "cell_type": "code",
   "execution_count": null,
   "id": "152c92f4",
   "metadata": {},
   "outputs": [],
   "source": [
    "search=driver.find_element_by_xpath(\"/html/body/div/div/div/div[2]/div[1]/div/div/div/div/span/input\")\n",
    "search"
   ]
  },
  {
   "cell_type": "code",
   "execution_count": null,
   "id": "21228e01",
   "metadata": {},
   "outputs": [],
   "source": [
    "search.send_keys('Data Scientist')"
   ]
  },
  {
   "cell_type": "code",
   "execution_count": null,
   "id": "6449494d",
   "metadata": {},
   "outputs": [],
   "source": [
    "search_bt=driver.find_element_by_xpath(\"/html/body/div/div/div/div[2]/div[1]/div/div/div/div/span/input\")"
   ]
  },
  {
   "cell_type": "code",
   "execution_count": null,
   "id": "bb82d6b1",
   "metadata": {},
   "outputs": [],
   "source": [
    "search_bt.click()"
   ]
  },
  {
   "cell_type": "code",
   "execution_count": null,
   "id": "cd97a164",
   "metadata": {},
   "outputs": [],
   "source": [
    "loc_job=driver.find_element_by_xpath(\"/html/body/div/div/div/div[2]/div[1]/div/div/div/div/span/input\")"
   ]
  },
  {
   "cell_type": "code",
   "execution_count": null,
   "id": "ba577fee",
   "metadata": {},
   "outputs": [],
   "source": [
    "loc_job.click()"
   ]
  },
  {
   "cell_type": "code",
   "execution_count": null,
   "id": "233931d2",
   "metadata": {},
   "outputs": [],
   "source": [
    "noida=driver.find_element_by_xpath(\"/html/body/div/div/div/div[2]/div[2]/div[1]/div/div/div/div[2]/div[2]/div/div[3]/div[1]/div[5]/div/label\")\n",
    "\n",
    "noida\n",
    "\n",
    "company_name=driver.find_elements_by_xpath('//p[@class=\"company body-medium\"]')\n",
    "\n",
    "company_name\n",
    "\n",
    "comp_list=[]\n",
    "for i in company_name:\n",
    "    comp_list.append(i.text)\n",
    "    \n",
    "comp_list \n",
    "\n",
    "days=driver.find_elements_by_xpath('//span[@class=\"body-small-l\"]')\n",
    "\n",
    "days\n",
    "\n",
    "days_list=[]\n",
    "for i in days:\n",
    "    days_list.append(i.text)\n",
    "    days_list=days_list[0:10]\n",
    "    \n",
    "days_list\n",
    "\n",
    "ratings=driver.find_elements_by_xpath('//span[@class=\"body-small\"]')\n",
    "\n",
    "ratings\n",
    "\n",
    "rat_list=[]\n",
    "for i in ratings:\n",
    "    rat_list.append(i.text)\n",
    "    \n",
    "    \n",
    "rat_list\n",
    "\n",
    "df = pd.DataFrame({})\n",
    "df['Comapny Name'] = comp_list \n",
    "df['Posted Days'] = days_list\n",
    "df['Ratings'] = rat_list\n",
    "\n",
    "df\n"
   ]
  },
  {
   "cell_type": "markdown",
   "id": "d152807a",
   "metadata": {},
   "source": [
    " # Write a python program to scrape the salary data for Data Scientist designation."
   ]
  },
  {
   "cell_type": "code",
   "execution_count": null,
   "id": "adb2757b",
   "metadata": {},
   "outputs": [],
   "source": [
    "driver = webdriver.Chrome('/users/pratiksingh/Downloads/chromedriver')"
   ]
  },
  {
   "cell_type": "code",
   "execution_count": null,
   "id": "31df58f4",
   "metadata": {},
   "outputs": [],
   "source": [
    "url =\"https://www.ambitionbox.com/\"\n",
    "\n",
    "driver.get(url)\n",
    "\n",
    "driver.maximize_window()"
   ]
  },
  {
   "cell_type": "code",
   "execution_count": null,
   "id": "fb296cfe",
   "metadata": {},
   "outputs": [],
   "source": [
    "sal_icon=driver.find_element_by_xpath(\"/html/body/div[1]/nav/nav/a[4]\")"
   ]
  },
  {
   "cell_type": "code",
   "execution_count": null,
   "id": "511e7601",
   "metadata": {},
   "outputs": [],
   "source": [
    "sal_icon.click()"
   ]
  },
  {
   "cell_type": "code",
   "execution_count": null,
   "id": "97bd7bb4",
   "metadata": {},
   "outputs": [],
   "source": [
    "job_srh=driver.find_element_by_xpath(\"/html/body/div[1]/div/div/div[2]/div/div/div/div[1]/span/input\")"
   ]
  },
  {
   "cell_type": "code",
   "execution_count": null,
   "id": "2d8ad3d7",
   "metadata": {},
   "outputs": [],
   "source": [
    "job_srh"
   ]
  },
  {
   "cell_type": "code",
   "execution_count": null,
   "id": "17a340f5",
   "metadata": {},
   "outputs": [],
   "source": [
    "job_srh.send_keys('Data Scientist')\n"
   ]
  },
  {
   "cell_type": "code",
   "execution_count": null,
   "id": "27ec1494",
   "metadata": {},
   "outputs": [],
   "source": [
    "srh_bt=driver.find_element_by_xpath(\"/html/body/div[1]/div/div/div[2]/div/div/div/button/span\")"
   ]
  },
  {
   "cell_type": "code",
   "execution_count": null,
   "id": "94929de8",
   "metadata": {},
   "outputs": [],
   "source": [
    "srh_bt.click()"
   ]
  },
  {
   "cell_type": "code",
   "execution_count": null,
   "id": "51edc4b4",
   "metadata": {},
   "outputs": [],
   "source": [
    "Company=driver.find_elements_by_xpath('//div[@class=\"/html/body/div[1]/nav/nav/a[2]\"]')"
   ]
  },
  {
   "cell_type": "code",
   "execution_count": null,
   "id": "83376521",
   "metadata": {},
   "outputs": [],
   "source": [
    "Company"
   ]
  },
  {
   "cell_type": "code",
   "execution_count": null,
   "id": "1f79043d",
   "metadata": {},
   "outputs": [],
   "source": [
    "Expirence=driver.find_elements_by_xpath('//div[@class=\"salaries sbold-list-header\"]')"
   ]
  },
  {
   "cell_type": "code",
   "execution_count": null,
   "id": "48d97333",
   "metadata": {},
   "outputs": [],
   "source": [
    "Expirence"
   ]
  },
  {
   "cell_type": "code",
   "execution_count": null,
   "id": "71ebc729",
   "metadata": {},
   "outputs": [],
   "source": [
    "Salary=driver.find_elements_by_xpath('//div[@class=\"result-col salary-range\"]')"
   ]
  },
  {
   "cell_type": "code",
   "execution_count": null,
   "id": "66551b3b",
   "metadata": {},
   "outputs": [],
   "source": [
    "Sal=[]\n",
    "for i in Salary:\n",
    "    Sal.append(i.text)\n",
    "    \n",
    "Sal    "
   ]
  },
  {
   "cell_type": "code",
   "execution_count": null,
   "id": "71ced994",
   "metadata": {},
   "outputs": [],
   "source": [
    "Exp=[]\n",
    "for i in Expirence:\n",
    "    Exp.append(i.text)\n",
    "    \n",
    "Exp    "
   ]
  },
  {
   "cell_type": "code",
   "execution_count": null,
   "id": "2d30d731",
   "metadata": {},
   "outputs": [],
   "source": [
    "Comp=[]\n",
    "for i in Company:\n",
    "    Comp.append(i.text)\n",
    "    \n",
    "Comp    "
   ]
  },
  {
   "cell_type": "code",
   "execution_count": null,
   "id": "94f4513e",
   "metadata": {},
   "outputs": [],
   "source": [
    "df = pd.DataFrame({})\n",
    "df['Comapny Name'] = Comp \n",
    "df['Expirence'] = Exp\n",
    "df['Average Salary'] = Sal"
   ]
  },
  {
   "cell_type": "code",
   "execution_count": null,
   "id": "39ff30da",
   "metadata": {},
   "outputs": [],
   "source": [
    "df"
   ]
  },
  {
   "cell_type": "code",
   "execution_count": null,
   "id": "0a1b8898",
   "metadata": {},
   "outputs": [],
   "source": []
  }
 ],
 "metadata": {
  "kernelspec": {
   "display_name": "Python 3",
   "language": "python",
   "name": "python3"
  },
  "language_info": {
   "codemirror_mode": {
    "name": "ipython",
    "version": 3
   },
   "file_extension": ".py",
   "mimetype": "text/x-python",
   "name": "python",
   "nbconvert_exporter": "python",
   "pygments_lexer": "ipython3",
   "version": "3.8.8"
  }
 },
 "nbformat": 4,
 "nbformat_minor": 5
}
